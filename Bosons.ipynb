{
 "cells": [
  {
   "cell_type": "code",
   "execution_count": 60,
   "metadata": {},
   "outputs": [],
   "source": [
    "from sympy import *"
   ]
  },
  {
   "cell_type": "code",
   "execution_count": 61,
   "metadata": {},
   "outputs": [],
   "source": [
    "def phi(n):\n",
    "    return -n*pi/2"
   ]
  },
  {
   "cell_type": "code",
   "execution_count": 62,
   "metadata": {},
   "outputs": [],
   "source": [
    "def E(side, l, wt):\n",
    "    interval = {}\n",
    "    interval1 = {}\n",
    "    interval2 = {}\n",
    "    if side == 'left':\n",
    "        \n",
    "        if Mod(pi - phi(l), 2*pi) > Mod(- phi(l), 2*pi):\n",
    "            interval = Interval(- phi(l), pi - phi(l))\n",
    "        else:\n",
    "            interval1 = Interval(0, Mod(pi - phi(l), 2*pi))\n",
    "            interval2 = Interval(Mod(- phi(l), 2*pi), 2*pi)\n",
    "            \n",
    "        if Mod(wt, 2*pi) in interval or Mod(wt, 2*pi) in interval1 or Mod(wt, 2*pi) in interval2:\n",
    "            return (cos(wt + phi(l)),'l')\n",
    "        else:\n",
    "            return (0,'l')\n",
    "    elif side == 'right':\n",
    "        \n",
    "        if Mod(2*pi - phi(l), 2*pi) > Mod(pi - phi(l), 2*pi):\n",
    "            interval = Interval(pi - phi(l), 2*pi - phi(l))\n",
    "        else:\n",
    "            interval1 = Interval(0, Mod(2*pi - phi(l), 2*pi))\n",
    "            interval2 = Interval(Mod(pi - phi(l), 2*pi), 2*pi)\n",
    "        \n",
    "        if Mod(wt, 2*pi) in interval or Mod(wt, 2*pi) in interval1 or Mod(wt, 2*pi) in interval2:\n",
    "            return (cos(wt + phi(l)),'r')\n",
    "        else:\n",
    "            return (0,'r')\n",
    "    else:\n",
    "        return 'error in boolean variable'"
   ]
  },
  {
   "cell_type": "markdown",
   "metadata": {},
   "source": [
    "### Intervals True and False are with 'inverted' logic"
   ]
  },
  {
   "cell_type": "markdown",
   "metadata": {},
   "source": [
    "## La operacion a realizar es E(izq, L, wt) + E(der, L, wt):"
   ]
  },
  {
   "cell_type": "code",
   "execution_count": 63,
   "metadata": {},
   "outputs": [],
   "source": [
    "def B(l, wt):\n",
    "    return E('left', l, wt)[0] + E('right', l, wt)[0] "
   ]
  },
  {
   "cell_type": "code",
   "execution_count": 64,
   "metadata": {},
   "outputs": [],
   "source": [
    "def BosonCompare(l, wt, epsilon, t0):\n",
    "    print(B(l, wt + epsilon), B(l+1, wt + t0 + epsilon))\n",
    "    print(B(l, wt + pi/2 + epsilon), B(l+1, wt + pi/2 + t0 + epsilon))\n",
    "    print(B(l, wt + pi + epsilon), B(l+1, wt + pi + t0 + epsilon))\n",
    "    print(B(l, wt + 3*pi/2 + epsilon), B(l+1, wt + 3*pi/2 + t0 + epsilon))"
   ]
  },
  {
   "cell_type": "code",
   "execution_count": 81,
   "metadata": {},
   "outputs": [
    {
     "name": "stdout",
     "output_type": "stream",
     "text": [
      "0.745038563413912 0.745038563413912\n",
      "-0.667021393229734 -0.667021393229734\n",
      "-0.745038563413912 0\n",
      "0.667021393229734 0\n"
     ]
    }
   ],
   "source": [
    "BosonCompare(1, 2.3, 0.001, pi/2)"
   ]
  },
  {
   "cell_type": "code",
   "execution_count": null,
   "metadata": {},
   "outputs": [],
   "source": []
  }
 ],
 "metadata": {
  "kernelspec": {
   "display_name": "Python 3",
   "language": "python",
   "name": "python3"
  },
  "language_info": {
   "codemirror_mode": {
    "name": "ipython",
    "version": 3
   },
   "file_extension": ".py",
   "mimetype": "text/x-python",
   "name": "python",
   "nbconvert_exporter": "python",
   "pygments_lexer": "ipython3",
   "version": "3.6.9"
  }
 },
 "nbformat": 4,
 "nbformat_minor": 4
}
